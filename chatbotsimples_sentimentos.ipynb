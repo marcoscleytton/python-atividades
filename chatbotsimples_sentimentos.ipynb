{
  "nbformat": 4,
  "nbformat_minor": 0,
  "metadata": {
    "colab": {
      "provenance": [],
      "authorship_tag": "ABX9TyOaPAfxsk1UZAC3swkuHTjT",
      "include_colab_link": true
    },
    "kernelspec": {
      "name": "python3",
      "display_name": "Python 3"
    },
    "language_info": {
      "name": "python"
    }
  },
  "cells": [
    {
      "cell_type": "markdown",
      "metadata": {
        "id": "view-in-github",
        "colab_type": "text"
      },
      "source": [
        "<a href=\"https://colab.research.google.com/github/marcoscleytton/python-pratice/blob/main/chatbotsimples_sentimentos.ipynb\" target=\"_parent\"><img src=\"https://colab.research.google.com/assets/colab-badge.svg\" alt=\"Open In Colab\"/></a>"
      ]
    },
    {
      "cell_type": "code",
      "execution_count": 1,
      "metadata": {
        "id": "dQdBEEQQjVTa"
      },
      "outputs": [],
      "source": [
        "from transformers import pipeline\n",
        "\n",
        "classificador = pipeline(\n",
        "    model=\"lxyuan/distilbert-base-multilingual-cased-sentiments-student\","
      ]
    },
    {
      "cell_type": "code",
      "source": [
        "! pip3 install wikipedia\n",
        "import wikipedia\n",
        "wikipedia.set_lang(\"pt\")\n",
        ""
      ],
      "metadata": {
        "id": "w9EfwfmVjjkC"
      },
      "execution_count": null,
      "outputs": []
    },
    {
      "cell_type": "code",
      "source": [
        "\n",
        "def inicio():\n",
        "    pergunta = input(\"Me pergunte qualquer coisa:\\n\")\n",
        "    resultados = wikipedia.search(pergunta)\n",
        "    melhor_resultado = resultados[0]\n",
        "    texto = wikipedia.page(melhor_resultado)\n",
        "    print(\"\\n\" + texto.summary)\n",
        "    print(f\"\\nFonte: {melhor_resultado} - Wikipedia\")\n",
        "    feedback = input(\"\\nO que achou da resposta?\\n\")\n",
        "    sentimento = classificador(feedback)\n",
        "\n",
        "    respostas = [\n",
        "        \"Fico feliz que tenha gostado da resposta!\",\n",
        "        \"Obrigado pelo feedback, volte sempre.\",\n",
        "        \"Que pena que não gostou da resposta. Gostaria de tentar uma outra pergunta?\"\n",
        "    ]\n",
        "\n",
        "    if sentimento[0]['label'] == \"positive\" and sentimento[0]['score'] > 0.6:\n",
        "        print(\"\\n\" + respostas[0])\n",
        "    elif sentimento[0]['label'] == \"negative\" and sentimento[0]['score'] > 0.6:\n",
        "        print(\"\\n\" + respostas[2])\n",
        "    else:\n",
        "        print(\"\\n\" + respostas[1])\n",
        "\n",
        "    return sentimento"
      ],
      "metadata": {
        "id": "-w5AG6uyjs2v"
      },
      "execution_count": null,
      "outputs": []
    },
    {
      "cell_type": "code",
      "source": [
        "inicio()\n"
      ],
      "metadata": {
        "id": "9h34Mre5j0BJ"
      },
      "execution_count": null,
      "outputs": []
    },
    {
      "cell_type": "code",
      "source": [],
      "metadata": {
        "id": "T3JBeXUQjtPZ"
      },
      "execution_count": null,
      "outputs": []
    }
  ]
}